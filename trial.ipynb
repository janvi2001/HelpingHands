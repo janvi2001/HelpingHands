{
 "cells": [
  {
   "cell_type": "markdown",
   "id": "02504c4f",
   "metadata": {},
   "source": [
    "# MODEL TRAINING"
   ]
  },
  {
   "cell_type": "markdown",
   "id": "2a78e0a3",
   "metadata": {},
   "source": [
    "## Imports"
   ]
  },
  {
   "cell_type": "code",
   "execution_count": 38,
   "id": "438b09d6",
   "metadata": {},
   "outputs": [],
   "source": [
    "import pywt\n",
    "import numpy as np\n",
    "import pandas as pd\n",
    "import matplotlib.pyplot as plt\n",
    "from glob import glob\n",
    "\n",
    "from math import sqrt,log10\n",
    "from sklearn.metrics import mean_squared_error\n",
    "from sklearn.linear_model import LogisticRegression\n",
    "from sklearn import svm\n",
    "import pickle\n",
    "import joblib"
   ]
  },
  {
   "cell_type": "markdown",
   "id": "3bc7d8e7",
   "metadata": {},
   "source": [
    "## Denoising"
   ]
  },
  {
   "cell_type": "code",
   "execution_count": 2,
   "id": "ec6fba95",
   "metadata": {},
   "outputs": [],
   "source": [
    "def madev(d, axis=None):\n",
    "    \"\"\" Median absolute deviation of a signal \"\"\"\n",
    "#     return np.mean(np.absolute(d - np.mean(d, axis)), axis)\n",
    "    return np.median(np.absolute(d))\n",
    "\n",
    "def wavelet_denoising(x):\n",
    "    c = pywt.wavedec(x,\"sym18\", mode=\"per\",level = 4)\n",
    "    \n",
    "    sigma = (1/0.6745) * madev(c[-1])\n",
    "    \n",
    "    univ_thresh = sigma * np.sqrt(2 * np.log(len(x)))\n",
    "    \n",
    "    c[1:] = (pywt.threshold(i, value=univ_thresh, mode='hard') for i in c[1:])\n",
    "    \n",
    "    return pywt.waverec(c, \"sym18\", mode='per')"
   ]
  },
  {
   "cell_type": "markdown",
   "id": "ab70b0f1",
   "metadata": {},
   "source": [
    "## Data PreProcessing "
   ]
  },
  {
   "cell_type": "code",
   "execution_count": 3,
   "id": "fe0c9f7a",
   "metadata": {},
   "outputs": [],
   "source": [
    "train_fnames =  glob('data/train/subj*_data.csv')\n",
    "test_fnames =  glob('data/test/subj*_data.csv')"
   ]
  },
  {
   "cell_type": "code",
   "execution_count": 4,
   "id": "8ab04983",
   "metadata": {},
   "outputs": [],
   "source": [
    "def preprocess_data(fname):\n",
    "    datax = pd.read_csv(fname)\n",
    "    datax.drop(['id'], axis = 1, inplace=True)\n",
    "    cols = datax.columns\n",
    "\n",
    "    datax = pd.DataFrame(wavelet_denoising(datax))\n",
    "    datax.columns = cols\n",
    "    # get filename of labels from data filename\n",
    "    events = fname.replace('_data','_events') \n",
    "    datay = pd.read_csv(events)\n",
    "#     print(len(datax.columns))\n",
    "\n",
    "    datay.drop(['id'], axis = 1, inplace=True)\n",
    "    \n",
    "    datax.drop([x for x in datax.columns if 'C' not in x], axis = 1, inplace=True)\n",
    "\n",
    "    for col in datay.columns:\n",
    "        datax[f'{col}_output'] = datay[col]\n",
    "    \n",
    "    return datax\n",
    "  \n",
    "# preprocess_data(fnames[0])"
   ]
  },
  {
   "cell_type": "code",
   "execution_count": 5,
   "id": "e986b8de",
   "metadata": {},
   "outputs": [
    {
     "name": "stderr",
     "output_type": "stream",
     "text": [
      "C:\\Users\\hp\\AppData\\Local\\Programs\\Python\\Python310\\lib\\site-packages\\pywt\\_multilevel.py:43: UserWarning: Level value of 4 is too high: all coefficients will experience boundary effects.\n",
      "  warnings.warn(\n",
      "C:\\Users\\hp\\AppData\\Local\\Programs\\Python\\Python310\\lib\\site-packages\\pywt\\_multilevel.py:43: UserWarning: Level value of 4 is too high: all coefficients will experience boundary effects.\n",
      "  warnings.warn(\n",
      "C:\\Users\\hp\\AppData\\Local\\Programs\\Python\\Python310\\lib\\site-packages\\pywt\\_multilevel.py:43: UserWarning: Level value of 4 is too high: all coefficients will experience boundary effects.\n",
      "  warnings.warn(\n",
      "C:\\Users\\hp\\AppData\\Local\\Programs\\Python\\Python310\\lib\\site-packages\\pywt\\_multilevel.py:43: UserWarning: Level value of 4 is too high: all coefficients will experience boundary effects.\n",
      "  warnings.warn(\n",
      "C:\\Users\\hp\\AppData\\Local\\Programs\\Python\\Python310\\lib\\site-packages\\pywt\\_multilevel.py:43: UserWarning: Level value of 4 is too high: all coefficients will experience boundary effects.\n",
      "  warnings.warn(\n",
      "C:\\Users\\hp\\AppData\\Local\\Programs\\Python\\Python310\\lib\\site-packages\\pywt\\_multilevel.py:43: UserWarning: Level value of 4 is too high: all coefficients will experience boundary effects.\n",
      "  warnings.warn(\n",
      "C:\\Users\\hp\\AppData\\Local\\Programs\\Python\\Python310\\lib\\site-packages\\pywt\\_multilevel.py:43: UserWarning: Level value of 4 is too high: all coefficients will experience boundary effects.\n",
      "  warnings.warn(\n",
      "C:\\Users\\hp\\AppData\\Local\\Programs\\Python\\Python310\\lib\\site-packages\\pywt\\_multilevel.py:43: UserWarning: Level value of 4 is too high: all coefficients will experience boundary effects.\n",
      "  warnings.warn(\n",
      "C:\\Users\\hp\\AppData\\Local\\Programs\\Python\\Python310\\lib\\site-packages\\pywt\\_multilevel.py:43: UserWarning: Level value of 4 is too high: all coefficients will experience boundary effects.\n",
      "  warnings.warn(\n"
     ]
    }
   ],
   "source": [
    "train_data = pd.concat([preprocess_data(fname) for fname in train_fnames])\n",
    "\n",
    "# train_Dic = {}\n",
    "\n",
    "# for i in range(6):\n",
    "#     train_Dic[f'train_data{i+1}'] = pd.concat([train_data.iloc[:,:11] , train_data.iloc[:,11+i]],axis=1, join='inner')"
   ]
  },
  {
   "cell_type": "code",
   "execution_count": 6,
   "id": "95aad183",
   "metadata": {},
   "outputs": [],
   "source": [
    "# train_Dic['train_data6']"
   ]
  },
  {
   "cell_type": "code",
   "execution_count": 7,
   "id": "5df421aa",
   "metadata": {},
   "outputs": [
    {
     "name": "stderr",
     "output_type": "stream",
     "text": [
      "C:\\Users\\hp\\AppData\\Local\\Programs\\Python\\Python310\\lib\\site-packages\\pywt\\_multilevel.py:43: UserWarning: Level value of 4 is too high: all coefficients will experience boundary effects.\n",
      "  warnings.warn(\n",
      "C:\\Users\\hp\\AppData\\Local\\Programs\\Python\\Python310\\lib\\site-packages\\pywt\\_multilevel.py:43: UserWarning: Level value of 4 is too high: all coefficients will experience boundary effects.\n",
      "  warnings.warn(\n",
      "C:\\Users\\hp\\AppData\\Local\\Programs\\Python\\Python310\\lib\\site-packages\\pywt\\_multilevel.py:43: UserWarning: Level value of 4 is too high: all coefficients will experience boundary effects.\n",
      "  warnings.warn(\n"
     ]
    }
   ],
   "source": [
    "test_data = pd.concat([preprocess_data(fname) for fname in test_fnames])\n",
    "\n",
    "# test_Dic = {}\n",
    "\n",
    "# for i in range(6):\n",
    "#     test_Dic[f'test_data{i+1}'] = pd.concat([test_data.iloc[:,:11] , test_data.iloc[:,11+i]],axis=1, join='inner')"
   ]
  },
  {
   "cell_type": "code",
   "execution_count": 8,
   "id": "99cb16c7",
   "metadata": {},
   "outputs": [],
   "source": [
    "# test_Dic['test_data3']"
   ]
  },
  {
   "cell_type": "code",
   "execution_count": 9,
   "id": "4f97d9c4",
   "metadata": {},
   "outputs": [
    {
     "data": {
      "text/plain": [
       "FC5   -376.130104\n",
       "FC1   -383.550627\n",
       "FC2   -391.048872\n",
       "FC6   -398.338283\n",
       "C3    -411.192561\n",
       "Cz    -416.260565\n",
       "C4    -420.144883\n",
       "CP5   -423.430891\n",
       "CP1   -421.601333\n",
       "CP2   -418.387447\n",
       "CP6   -413.916256\n",
       "Name: 1, dtype: float64"
      ]
     },
     "execution_count": 9,
     "metadata": {},
     "output_type": "execute_result"
    }
   ],
   "source": [
    "test_data.iloc[1,:11]\n"
   ]
  },
  {
   "cell_type": "code",
   "execution_count": 22,
   "id": "08fc2c88",
   "metadata": {},
   "outputs": [],
   "source": [
    "# logR1 = LogisticRegression()\n",
    "\n",
    "# logR1.fit(train_data.iloc[:,:11] , train_data.iloc[:,11])"
   ]
  },
  {
   "cell_type": "code",
   "execution_count": 23,
   "id": "1d7f955d",
   "metadata": {},
   "outputs": [],
   "source": [
    "# list(logR1.predict(test_data.iloc[:,:11])).count(1)"
   ]
  },
  {
   "cell_type": "code",
   "execution_count": 24,
   "id": "9d6c188f",
   "metadata": {},
   "outputs": [],
   "source": [
    "# logR1.score(test_data.iloc[:10000,:11] , test_data.iloc[:10000,11])"
   ]
  },
  {
   "cell_type": "code",
   "execution_count": 25,
   "id": "8fb12300",
   "metadata": {},
   "outputs": [],
   "source": [
    "# model = svm.SVC()\n",
    "# model.fit(train_data.iloc[:,:11] , train_data.iloc[:,11])"
   ]
  },
  {
   "cell_type": "code",
   "execution_count": 26,
   "id": "ba72e8ef",
   "metadata": {},
   "outputs": [],
   "source": [
    "# model.predict(test_data.iloc[1000:10000,:11])"
   ]
  },
  {
   "cell_type": "code",
   "execution_count": 27,
   "id": "35afc9cf",
   "metadata": {},
   "outputs": [],
   "source": [
    "from sklearn.tree import DecisionTreeClassifier"
   ]
  },
  {
   "cell_type": "code",
   "execution_count": 16,
   "id": "81532f0d",
   "metadata": {},
   "outputs": [
    {
     "data": {
      "text/plain": [
       "14858"
      ]
     },
     "execution_count": 16,
     "metadata": {},
     "output_type": "execute_result"
    }
   ],
   "source": [
    "clf1 = DecisionTreeClassifier()\n",
    "clf1.fit(train_data.iloc[:,:11] , train_data.iloc[:,11])\n",
    "list(clf1.predict(test_data.iloc[:,:11])).count(1)"
   ]
  },
  {
   "cell_type": "code",
   "execution_count": 17,
   "id": "6322a8fb",
   "metadata": {},
   "outputs": [
    {
     "data": {
      "text/plain": [
       "16078"
      ]
     },
     "execution_count": 17,
     "metadata": {},
     "output_type": "execute_result"
    }
   ],
   "source": [
    "clf2 = DecisionTreeClassifier()\n",
    "clf2.fit(train_data.iloc[:,:11] , train_data.iloc[:,12])\n",
    "list(clf2.predict(test_data.iloc[:,:11])).count(1)"
   ]
  },
  {
   "cell_type": "code",
   "execution_count": 18,
   "id": "2a86b569",
   "metadata": {},
   "outputs": [
    {
     "data": {
      "text/plain": [
       "16029"
      ]
     },
     "execution_count": 18,
     "metadata": {},
     "output_type": "execute_result"
    }
   ],
   "source": [
    "clf3 = DecisionTreeClassifier()\n",
    "clf3.fit(train_data.iloc[:,:11] , train_data.iloc[:,13])\n",
    "list(clf3.predict(test_data.iloc[:,:11])).count(1)"
   ]
  },
  {
   "cell_type": "code",
   "execution_count": 19,
   "id": "8ef470cf",
   "metadata": {},
   "outputs": [
    {
     "data": {
      "text/plain": [
       "16587"
      ]
     },
     "execution_count": 19,
     "metadata": {},
     "output_type": "execute_result"
    }
   ],
   "source": [
    "clf4 = DecisionTreeClassifier()\n",
    "clf4.fit(train_data.iloc[:,:11] , train_data.iloc[:,14])\n",
    "list(clf4.predict(test_data.iloc[:,:11])).count(1)"
   ]
  },
  {
   "cell_type": "code",
   "execution_count": 20,
   "id": "59e16a5b",
   "metadata": {},
   "outputs": [
    {
     "data": {
      "text/plain": [
       "18463"
      ]
     },
     "execution_count": 20,
     "metadata": {},
     "output_type": "execute_result"
    }
   ],
   "source": [
    "clf5 = DecisionTreeClassifier()\n",
    "clf5.fit(train_data.iloc[:,:11] , train_data.iloc[:,15])\n",
    "list(clf5.predict(test_data.iloc[:,:11])).count(1)"
   ]
  },
  {
   "cell_type": "code",
   "execution_count": 21,
   "id": "c288c6b7",
   "metadata": {},
   "outputs": [
    {
     "data": {
      "text/plain": [
       "17922"
      ]
     },
     "execution_count": 21,
     "metadata": {},
     "output_type": "execute_result"
    }
   ],
   "source": [
    "clf6 = DecisionTreeClassifier()\n",
    "clf6.fit(train_data.iloc[:,:11] , train_data.iloc[:,16])\n",
    "list(clf6.predict(test_data.iloc[:,:11])).count(1)"
   ]
  },
  {
   "cell_type": "code",
   "execution_count": 29,
   "id": "dae590f0",
   "metadata": {},
   "outputs": [
    {
     "name": "stdout",
     "output_type": "stream",
     "text": [
      "2.332825673957074\n",
      "2.332825673957074\n",
      "2.332825673957074\n",
      "2.332825673957074\n",
      "2.332825673957074\n",
      "2.332825673957074\n"
     ]
    }
   ],
   "source": [
    "ab1 = list(clf1.predict(test_data.iloc[:,:11]))\n",
    "print((ab1.count(1)/len(ab1))*100)\n",
    "ab2 = list(clf2.predict(test_data.iloc[:,:11]))\n",
    "print((ab1.count(1)/len(ab2))*100)\n",
    "ab3 = list(clf3.predict(test_data.iloc[:,:11]))\n",
    "print((ab1.count(1)/len(ab3))*100)\n",
    "ab4 = list(clf4.predict(test_data.iloc[:,:11]))\n",
    "print((ab1.count(1)/len(ab4))*100)\n",
    "ab5 = list(clf5.predict(test_data.iloc[:,:11]))\n",
    "print((ab1.count(1)/len(ab5))*100)\n",
    "ab6 = list(clf6.predict(test_data.iloc[:,:11]))\n",
    "print((ab1.count(1)/len(ab6))*100)"
   ]
  },
  {
   "cell_type": "code",
   "execution_count": 36,
   "id": "a3feec2f",
   "metadata": {},
   "outputs": [],
   "source": [
    "dbfile1 = open('pickle1.pkl', 'wb')\n",
    "pickle.dump(clf1, dbfile1)                     \n",
    "dbfile1.close()\n",
    "dbfile1 = open('pickle2.pkl', 'wb')\n",
    "pickle.dump(clf2, dbfile1)                     \n",
    "dbfile1.close()\n",
    "dbfile1 = open('pickle3.pkl', 'wb')\n",
    "pickle.dump(clf3, dbfile1)                     \n",
    "dbfile1.close()\n",
    "dbfile1 = open('pickle4.pkl', 'wb')\n",
    "pickle.dump(clf4, dbfile1)                     \n",
    "dbfile1.close()\n",
    "dbfile1 = open('pickle5.pkl', 'wb')\n",
    "pickle.dump(clf5, dbfile1)                     \n",
    "dbfile1.close()\n",
    "dbfile1 = open('pickle6.pkl', 'wb')\n",
    "pickle.dump(clf6, dbfile1)                     \n",
    "dbfile1.close()"
   ]
  },
  {
   "cell_type": "code",
   "execution_count": 39,
   "id": "1fa06289",
   "metadata": {},
   "outputs": [
    {
     "data": {
      "text/plain": [
       "['pickle6.pkl']"
      ]
     },
     "execution_count": 39,
     "metadata": {},
     "output_type": "execute_result"
    }
   ],
   "source": [
    "joblib.dump(clf1, 'pickle1.pkl')\n",
    "joblib.dump(clf2, 'pickle2.pkl')\n",
    "joblib.dump(clf3, 'pickle3.pkl')\n",
    "joblib.dump(clf4, 'pickle4.pkl')\n",
    "joblib.dump(clf5, 'pickle5.pkl')\n",
    "joblib.dump(clf6, 'pickle6.pkl')"
   ]
  },
  {
   "cell_type": "code",
   "execution_count": null,
   "id": "b0d6dd1d",
   "metadata": {},
   "outputs": [],
   "source": []
  }
 ],
 "metadata": {
  "kernelspec": {
   "display_name": "Python 3 (ipykernel)",
   "language": "python",
   "name": "python3"
  },
  "language_info": {
   "codemirror_mode": {
    "name": "ipython",
    "version": 3
   },
   "file_extension": ".py",
   "mimetype": "text/x-python",
   "name": "python",
   "nbconvert_exporter": "python",
   "pygments_lexer": "ipython3",
   "version": "3.10.2"
  }
 },
 "nbformat": 4,
 "nbformat_minor": 5
}
